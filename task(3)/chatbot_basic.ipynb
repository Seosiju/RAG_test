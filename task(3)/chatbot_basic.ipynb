{
 "cells": [
  {
   "cell_type": "code",
   "execution_count": null,
   "id": "16a637f2",
   "metadata": {},
   "outputs": [
    {
     "name": "stdout",
     "output_type": "stream",
     "text": [
      "챗봇에게 말을 걸어보세요! (그만두려면 quit 입력)\n",
      "User: 안녕\n",
      "Chatbot: 안녕하세요! 무엇을 도와드릴까요?\n",
      "Chatbot: 안녕히 가세요!\n"
     ]
    }
   ],
   "source": [
    "from openai import OpenAI\n",
    "\n",
    "client = OpenAI(api_key=\"\")\n",
    "messages = [\n",
    "    {\"role\": \"system\", \"content\": \"You are a helpful assistant.\"}\n",
    "]\n",
    "\n",
    "print(\"챗봇에게 말을 걸어보세요! (그만두려면 quit 입력)\")\n",
    "\n",
    "while True:\n",
    "    user_input = input(\"User: \")\n",
    "    if user_input.lower() == \"quit\":\n",
    "        print(\"Chatbot: 안녕히 가세요!\")\n",
    "        break\n",
    "    \n",
    "    print(\"User:\", user_input)\n",
    "\n",
    "    messages.append({\"role\": \"user\", \"content\": user_input})\n",
    "    # print(\"현재 대화 기록:\", messages)\n",
    "\n",
    "    response = client.chat.completions.create(\n",
    "        model=\"gpt-4o\",\n",
    "        messages=messages\n",
    "    )\n",
    "\n",
    "    answer = response.choices[0].message.content\n",
    "    print(\"Chatbot:\", answer)\n",
    "\n",
    "    messages.append({\"role\": \"assistant\", \"content\": answer})"
   ]
  },
  {
   "cell_type": "code",
   "execution_count": null,
   "id": "fc165df3",
   "metadata": {},
   "outputs": [],
   "source": []
  }
 ],
 "metadata": {
  "kernelspec": {
   "display_name": "base",
   "language": "python",
   "name": "python3"
  },
  "language_info": {
   "codemirror_mode": {
    "name": "ipython",
    "version": 3
   },
   "file_extension": ".py",
   "mimetype": "text/x-python",
   "name": "python",
   "nbconvert_exporter": "python",
   "pygments_lexer": "ipython3",
   "version": "3.13.5"
  }
 },
 "nbformat": 4,
 "nbformat_minor": 5
}
